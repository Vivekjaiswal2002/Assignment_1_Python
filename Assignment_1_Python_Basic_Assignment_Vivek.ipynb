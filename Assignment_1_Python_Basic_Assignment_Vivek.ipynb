{
  "nbformat": 4,
  "nbformat_minor": 0,
  "metadata": {
    "colab": {
      "provenance": [],
      "authorship_tag": "ABX9TyOzyAMheCf97sbZERsI0uEC",
      "include_colab_link": true
    },
    "kernelspec": {
      "name": "python3",
      "display_name": "Python 3"
    },
    "language_info": {
      "name": "python"
    }
  },
  "cells": [
    {
      "cell_type": "markdown",
      "metadata": {
        "id": "view-in-github",
        "colab_type": "text"
      },
      "source": [
        "<a href=\"https://colab.research.google.com/github/Vivekjaiswal2002/Assignment_1_Python/blob/main/Assignment_1_Python_Basic_Assignment_Vivek.ipynb\" target=\"_parent\"><img src=\"https://colab.research.google.com/assets/colab-badge.svg\" alt=\"Open In Colab\"/></a>"
      ]
    },
    {
      "cell_type": "markdown",
      "source": [
        "### 1-- Explain the key features of python that make it popular chioce for programming.\n",
        "Ans-- Python- Python is a programming language that is widely uses in web applicatian, software delovepment, Data science and machine learning. We use python beacause it is efficent and easy to learn and can run on many diffrent paltforms.\n",
        "Here are some key features of Python:\n",
        "\n",
        "Easy to learn: Python is a developer-friendly language with a simple syntax that anyone can learn in a few days or hours.\n",
        "\n",
        "Open source: Python is free and open-source software.\n",
        "\n",
        "Portable: Python is a highly portable language.\n",
        "\n",
        "Standard library: Python comes with a comprehensive standard library.\n",
        "\n",
        "Multiple programming models: Python supports procedural, object-oriented, and functional programming.\n",
        "\n",
        "Test-driven development: Python makes it easy to do test-driven development (TDD).\n",
        "\n",
        "Frameworks and libraries: Python has frameworks and libraries for almost every application domain.\n",
        "\n",
        "Large community support: Python has a large community of supporters.\n",
        "\n",
        "Other key features of Python include:\n",
        "High-level language\n",
        "Interpreted\n",
        "Dynamically typed\n",
        "Object-oriented\n",
        "Procedural-oriented\n",
        "Scalable\n",
        "Cross-platform\n",
        "Extensible\n",
        "GUI programming\n",
        "\n",
        "###2--  Describe the role of predefined keywords in Python and provide examples of how they are used in a program.\n",
        "###Ans-- Keywords in Python\n",
        "Python Keywords are some predefined and reserved words in Python that have special meanings. Keywords are used to define the syntax of the coding. The keyword cannot be used as an identifier, function, or variable name. All the keywords in Python are written in lowercase except True and False.\n",
        "Key Roles of Predefined Keywords:\n",
        "\n",
        "Defining program structure: Keywords like class, def, if, else, for, while, and try are used to define the structure and organization of a Python program. For example, class is used to create custom data types, while def is used to define functions.\n",
        "Controlling program flow: Keywords like if, else, elif, for, while, break, and continue are used to control the flow of execution within a program. They allow you to make decisions, iterate over sequences, and jump to specific points within the code.\n",
        "Defining data types: Keywords like int, float, str, bool, list, tuple, dict, and set are used to define different data types and their properties. For example, int is used to represent integers, while str is used to represent strings.\n",
        "Handling exceptions: Keywords like try, except, finally, and raise are used to handle errors and exceptions that may occur during program execution. They allow you to gracefully handle unexpected situations and prevent your program from crashing.\n",
        "Importing modules: Keywords like import and from are used to import modules and packages into your program, providing access to additional functionality.\n",
        "Examples of Keyword Usage:"
      ],
      "metadata": {
        "id": "8TIVWkqTXlvH"
      }
    },
    {
      "cell_type": "code",
      "source": [
        "# Using conditional statements\n",
        "if 5 > 3:\n",
        "    print(\"5 is greater than 3\")\n",
        "else:\n",
        "    print(\"5 is not greater than 3\")"
      ],
      "metadata": {
        "colab": {
          "base_uri": "https://localhost:8080/"
        },
        "id": "DF-3g0z0gh6b",
        "outputId": "d2847308-e41d-4207-c19a-c9a6b403b87f"
      },
      "execution_count": null,
      "outputs": [
        {
          "output_type": "stream",
          "name": "stdout",
          "text": [
            "5 is greater than 3\n"
          ]
        }
      ]
    },
    {
      "cell_type": "markdown",
      "source": [
        "####3--Compare and contrast mutable and immutable objects in Python with examples.\n",
        "####Ans--Mutable Objects:\n",
        "\n",
        "####Definition: Objects whose values can be modified after creation.\n",
        "Examples: Lists, dictionaries, sets, and custom-defined classes.\n",
        "Behavior: When you modify a mutable object, you're actually changing the underlying data structure.\n",
        "Implications:\n",
        "Shared references: If multiple variables refer to the same mutable object, changes made to one variable will affect all others.\n",
        "Function arguments: Passing mutable objects to functions can lead to unintended side effects if the function modifies the object.\n",
        "Example:"
      ],
      "metadata": {
        "id": "pZmY-FXRh2LT"
      }
    },
    {
      "cell_type": "code",
      "source": [
        "my_list = [1, 2, 3]\n",
        "my_list.append(4)\n",
        "print(my_list)\n",
        "print(type(my_list))"
      ],
      "metadata": {
        "colab": {
          "base_uri": "https://localhost:8080/"
        },
        "id": "6btLyG20iumU",
        "outputId": "32f5e1cc-b3ae-4062-a823-2f905076d9e2"
      },
      "execution_count": null,
      "outputs": [
        {
          "output_type": "stream",
          "name": "stdout",
          "text": [
            "[1, 2, 3, 4]\n",
            "<class 'list'>\n"
          ]
        }
      ]
    },
    {
      "cell_type": "markdown",
      "source": [
        "####Immutable Objects:\n",
        "\n",
        "Definition: Objects whose values cannot be changed once created.\n",
        "Examples: Numbers (integers, floats, complex), strings, tuples, and Booleans.\n",
        "Behavior: When you try to modify an immutable object, you're actually creating a new object with the modified value.\n",
        "Implications:\n",
        "Shared references: Multiple variables can refer to the same immutable object without affecting each other.\n",
        "Function arguments: Passing immutable objects to functions is safer, as the function cannot modify the original object.\n",
        "Example:"
      ],
      "metadata": {
        "id": "mNd_CYHnjYAy"
      }
    },
    {
      "cell_type": "code",
      "source": [
        "string = \"siddarth prakash\"\n",
        "string2 =  string + \"Mishra\"\n",
        "\n",
        "print(string)\n",
        "print(string2)\n",
        "print(id(string))"
      ],
      "metadata": {
        "colab": {
          "base_uri": "https://localhost:8080/"
        },
        "id": "iYnQl4WyjaTp",
        "outputId": "f5da784a-e956-4a6e-cd0b-28ff11dc7c1b"
      },
      "execution_count": null,
      "outputs": [
        {
          "output_type": "stream",
          "name": "stdout",
          "text": [
            "siddarth prakash\n",
            "siddarth prakashMishra\n",
            "135721003070880\n"
          ]
        }
      ]
    },
    {
      "cell_type": "markdown",
      "source": [
        "###4--Types of Operators in Python\n",
        "Python offers a variety of operators to perform different operations on values. These operators can be categorized into several types:\n",
        "\n",
        "####Arithmetic Operators\n",
        "\n"
      ],
      "metadata": {
        "id": "CbSU5QkBlvD4"
      }
    },
    {
      "cell_type": "code",
      "source": [
        "a=4\n",
        "b=8\n",
        "print(a+b)"
      ],
      "metadata": {
        "colab": {
          "base_uri": "https://localhost:8080/"
        },
        "id": "WBiqPbaEsajY",
        "outputId": "57eb41d0-3b9f-4124-cd06-cc858c77c57c"
      },
      "execution_count": null,
      "outputs": [
        {
          "output_type": "stream",
          "name": "stdout",
          "text": [
            "12\n"
          ]
        }
      ]
    },
    {
      "cell_type": "code",
      "source": [
        "print(a-b)"
      ],
      "metadata": {
        "colab": {
          "base_uri": "https://localhost:8080/"
        },
        "id": "wZr4LvXcs_Pb",
        "outputId": "ea52deb6-6444-414a-b9cb-f8a1e17badcb"
      },
      "execution_count": null,
      "outputs": [
        {
          "output_type": "stream",
          "name": "stdout",
          "text": [
            "-4\n"
          ]
        }
      ]
    },
    {
      "cell_type": "code",
      "source": [
        "print(a*b)"
      ],
      "metadata": {
        "colab": {
          "base_uri": "https://localhost:8080/"
        },
        "id": "eTPPM3F3tFCF",
        "outputId": "2a6b4c9c-0684-4bc3-eb86-4c115a524c71"
      },
      "execution_count": null,
      "outputs": [
        {
          "output_type": "stream",
          "name": "stdout",
          "text": [
            "32\n"
          ]
        }
      ]
    },
    {
      "cell_type": "code",
      "source": [
        "print(a|b)"
      ],
      "metadata": {
        "colab": {
          "base_uri": "https://localhost:8080/"
        },
        "id": "EenHa0QdtNRa",
        "outputId": "b2ced9ac-ed05-4633-f243-d967f35d108f"
      },
      "execution_count": null,
      "outputs": [
        {
          "output_type": "stream",
          "name": "stdout",
          "text": [
            "12\n"
          ]
        }
      ]
    },
    {
      "cell_type": "code",
      "source": [
        "print(a**b)"
      ],
      "metadata": {
        "colab": {
          "base_uri": "https://localhost:8080/"
        },
        "id": "Rxg9OV16tRG3",
        "outputId": "c99d76b0-d72a-44db-f06f-6f0bc67110b4"
      },
      "execution_count": null,
      "outputs": [
        {
          "output_type": "stream",
          "name": "stdout",
          "text": [
            "65536\n"
          ]
        }
      ]
    },
    {
      "cell_type": "code",
      "source": [
        "print(a//b)"
      ],
      "metadata": {
        "colab": {
          "base_uri": "https://localhost:8080/"
        },
        "id": "NiOFW3o_us25",
        "outputId": "3349abb2-ad29-4356-8553-7066ab0bc3c7"
      },
      "execution_count": null,
      "outputs": [
        {
          "output_type": "stream",
          "name": "stdout",
          "text": [
            "0\n"
          ]
        }
      ]
    },
    {
      "cell_type": "code",
      "source": [
        "print(a%b)"
      ],
      "metadata": {
        "colab": {
          "base_uri": "https://localhost:8080/"
        },
        "id": "YCN4i67Mu_0q",
        "outputId": "a8a0d30e-17e8-496a-fa3e-148b98c23183"
      },
      "execution_count": null,
      "outputs": [
        {
          "output_type": "stream",
          "name": "stdout",
          "text": [
            "4\n"
          ]
        }
      ]
    },
    {
      "cell_type": "markdown",
      "source": [
        "####Comparison Operators:-\n"
      ],
      "metadata": {
        "id": "Vg-_eGYMtsSJ"
      }
    },
    {
      "cell_type": "code",
      "source": [
        "a=8\n",
        "b=8\n",
        "if a== b:\n",
        "  print(\"a is eqaul to b\")\n",
        "else    :\n",
        "\n",
        "    print(\"a is not eqaul to b\")"
      ],
      "metadata": {
        "colab": {
          "base_uri": "https://localhost:8080/"
        },
        "id": "EoMQoJ5wuODV",
        "outputId": "aa357549-0838-458c-e72b-0c198752a3fa"
      },
      "execution_count": null,
      "outputs": [
        {
          "output_type": "stream",
          "name": "stdout",
          "text": [
            "a is eqaul to b\n"
          ]
        }
      ]
    },
    {
      "cell_type": "code",
      "source": [
        "a=9\n",
        "b=6\n",
        "if a==b:\n",
        "  print(\"a  is eqaul to b\")\n",
        "else:\n",
        "  print(\"a is not equal to b\")\n"
      ],
      "metadata": {
        "colab": {
          "base_uri": "https://localhost:8080/"
        },
        "id": "Ua14zSvCvh9Y",
        "outputId": "9716914c-e43a-42ea-a528-e6822fc2f813"
      },
      "execution_count": null,
      "outputs": [
        {
          "output_type": "stream",
          "name": "stdout",
          "text": [
            "a is not equal to b\n"
          ]
        }
      ]
    },
    {
      "cell_type": "code",
      "source": [
        "a=9\n",
        "b=8\n",
        "if a>b:\n",
        "  print(\"a is greater than b\")\n",
        "else:\n",
        "    print(\"a is not greater than b\")"
      ],
      "metadata": {
        "colab": {
          "base_uri": "https://localhost:8080/"
        },
        "id": "AFfUh8nIwqS3",
        "outputId": "ead1a866-1ec4-446e-c949-f717fbbd64bf"
      },
      "execution_count": null,
      "outputs": [
        {
          "output_type": "stream",
          "name": "stdout",
          "text": [
            "a is greater than b\n"
          ]
        }
      ]
    },
    {
      "cell_type": "code",
      "source": [
        "a=7\n",
        "b=9\n",
        "if a<b:\n",
        "  print(\"a is less the b\")\n",
        "else:\n",
        "  print(\"a is not less b \")"
      ],
      "metadata": {
        "colab": {
          "base_uri": "https://localhost:8080/"
        },
        "id": "BRxNDMFmxUov",
        "outputId": "64178a59-5b66-49df-ea4e-773fe29001b8"
      },
      "execution_count": null,
      "outputs": [
        {
          "output_type": "stream",
          "name": "stdout",
          "text": [
            "a is less the b\n"
          ]
        }
      ]
    },
    {
      "cell_type": "code",
      "source": [
        "a=7\n",
        "b=8\n",
        "if a<=b:\n",
        "  print(\"a is greater or equal to b\")\n",
        "else:\n",
        "  print(\"a is not greater or eqaul to b\")"
      ],
      "metadata": {
        "colab": {
          "base_uri": "https://localhost:8080/"
        },
        "id": "x3WsUqEOyPxc",
        "outputId": "8284f0bf-c89f-4e5d-f653-3f377d8b2590"
      },
      "execution_count": null,
      "outputs": [
        {
          "output_type": "stream",
          "name": "stdout",
          "text": [
            "a is greater or equal to b\n"
          ]
        }
      ]
    },
    {
      "cell_type": "code",
      "source": [
        "a=5\n",
        "b=6\n",
        "if a>=b:\n",
        "  print(\"a is less or equal to b\")\n",
        "else:\n",
        "  print(\"a is not less or equal to b\")"
      ],
      "metadata": {
        "colab": {
          "base_uri": "https://localhost:8080/"
        },
        "id": "IFBxghlDycto",
        "outputId": "68b44dc2-13da-4ca0-8b94-b3dcdf8cdff5"
      },
      "execution_count": null,
      "outputs": [
        {
          "output_type": "stream",
          "name": "stdout",
          "text": [
            "a is not less or equal to b\n"
          ]
        }
      ]
    },
    {
      "cell_type": "markdown",
      "source": [
        "#5--Explain the concept of type casting in Python with examples.\n",
        "#Ans-- Type Casting in Python:\n",
        "\n",
        "Type casting, also known as type conversion, is the process of converting one data type to another in programming. Python provides built-in functions to perform type casting:\n",
        "\n",
        "int(): Converts a value to an integer.\n",
        "float(): Converts a value to a floating-point number.\n",
        "str(): Converts a value to a string.\n",
        "bool(): Converts a value to a Boolean (True or False).\n",
        "Examples:"
      ],
      "metadata": {
        "id": "17RcslvH0Tdh"
      }
    },
    {
      "cell_type": "code",
      "source": [
        "####Integer to float\n",
        "x=9.12\n",
        "y=int(x)\n",
        "print(y)"
      ],
      "metadata": {
        "colab": {
          "base_uri": "https://localhost:8080/"
        },
        "id": "wB9qmeg_1C2R",
        "outputId": "750c76be-44cb-4e6b-d1a2-98c3c3864316"
      },
      "execution_count": null,
      "outputs": [
        {
          "output_type": "stream",
          "name": "stdout",
          "text": [
            "9\n"
          ]
        }
      ]
    },
    {
      "cell_type": "code",
      "source": [
        "####float to int\n",
        "x=\"5\"\n",
        "y=float(x)\n",
        "print(y)"
      ],
      "metadata": {
        "colab": {
          "base_uri": "https://localhost:8080/"
        },
        "id": "Lyd0Jfwc1TEe",
        "outputId": "406865ec-fc52-4237-d213-22ed45e6e7d4"
      },
      "execution_count": null,
      "outputs": [
        {
          "output_type": "stream",
          "name": "stdout",
          "text": [
            "5.0\n"
          ]
        }
      ]
    },
    {
      "cell_type": "code",
      "source": [
        "####converting to string\n",
        "x = 10\n",
        "y = str(x)\n",
        "print(y)"
      ],
      "metadata": {
        "colab": {
          "base_uri": "https://localhost:8080/"
        },
        "id": "1ef-6gtL2YYp",
        "outputId": "50982d7a-f8a3-46ae-94aa-7bd2f00976a9"
      },
      "execution_count": null,
      "outputs": [
        {
          "output_type": "stream",
          "name": "stdout",
          "text": [
            "10\n"
          ]
        }
      ]
    },
    {
      "cell_type": "code",
      "source": [
        "####converting to boolean\n",
        "x = 0\n",
        "y = bool(x)\n",
        "print(y)\n",
        "\n",
        "x = \"Hello\"\n",
        "y = bool(x)\n",
        "print(y)"
      ],
      "metadata": {
        "colab": {
          "base_uri": "https://localhost:8080/"
        },
        "id": "0nKCyYj62XFN",
        "outputId": "0bef25a7-f9ee-4c49-bd34-6bf6f896151c"
      },
      "execution_count": null,
      "outputs": [
        {
          "output_type": "stream",
          "name": "stdout",
          "text": [
            "False\n",
            "True\n"
          ]
        }
      ]
    },
    {
      "cell_type": "markdown",
      "source": [
        "#6--How do conditional statements work in Python? Illustrate with examples.\n",
        "\n",
        "\n",
        "####Ans-- Conditional statements in Python are used to execute different code blocks based on specific conditions. They allow you to make decisions and control the flow of your program.\n",
        "\n",
        "Types of Conditional Statements:\n",
        "\n",
        "if Statement:\n",
        "\n",
        "Executes a block of code if a condition is true\n"
      ],
      "metadata": {
        "id": "YXAEdrzG3joX"
      }
    },
    {
      "cell_type": "code",
      "source": [
        "x = 10\n",
        "if x > 5:\n",
        "    print(\"x is greater than 5\")"
      ],
      "metadata": {
        "id": "9CXa_4M86A6l",
        "colab": {
          "base_uri": "https://localhost:8080/"
        },
        "outputId": "c1da10bb-2c4d-440e-c103-0f445b9285a2"
      },
      "execution_count": null,
      "outputs": [
        {
          "output_type": "stream",
          "name": "stdout",
          "text": [
            "x is greater than 5\n"
          ]
        }
      ]
    },
    {
      "cell_type": "markdown",
      "source": [
        "if-else Statement:\n",
        "Executes one block of code if a condition is true, and another block if it's false\n",
        "\n"
      ],
      "metadata": {
        "id": "ptPN-i8C7Mer"
      }
    },
    {
      "cell_type": "code",
      "source": [
        "x = 5\n",
        "if x > 10:\n",
        "    print(\"x is greater than 10\")\n",
        "else:\n",
        "    print(\"x is less than or equal to 10\")"
      ],
      "metadata": {
        "colab": {
          "base_uri": "https://localhost:8080/"
        },
        "id": "_GfGgqOV8A10",
        "outputId": "a0358c89-f7bf-44dc-b7d0-cbbc69430528"
      },
      "execution_count": null,
      "outputs": [
        {
          "output_type": "stream",
          "name": "stdout",
          "text": [
            "x is less than or equal to 10\n"
          ]
        }
      ]
    },
    {
      "cell_type": "markdown",
      "source": [
        "if-elif-else Statement:\n",
        "\n",
        "Allows you to check multiple conditions and execute the corresponding code block."
      ],
      "metadata": {
        "id": "QQq8bY5J8QXr"
      }
    },
    {
      "cell_type": "code",
      "source": [
        "x = 7\n",
        "if x > 10:\n",
        "    print(\"x is greater than 10\")\n",
        "elif x > 5:\n",
        "    print(\"x is greater than 5\")\n",
        "else:\n",
        "    print(\"x is less than or equal to 5\")"
      ],
      "metadata": {
        "colab": {
          "base_uri": "https://localhost:8080/"
        },
        "id": "BcdCq-wC8V8R",
        "outputId": "4ab8acb2-5884-4a27-bdad-a2389c3fb5bb"
      },
      "execution_count": null,
      "outputs": [
        {
          "output_type": "stream",
          "name": "stdout",
          "text": [
            "x is greater than 5\n"
          ]
        }
      ]
    },
    {
      "cell_type": "markdown",
      "source": [
        "Nested Conditional Statements:\n",
        "\n",
        "You can nest conditional statements within each other for more complex logic."
      ],
      "metadata": {
        "id": "8TcQHtke8cJJ"
      }
    },
    {
      "cell_type": "code",
      "source": [
        "age = 25\n",
        "if age >= 18:\n",
        "    if age < 65:\n",
        "        print(\"You are an adult.\")\n",
        "    else:\n",
        "        print(\"You are a senior citizen.\")\n",
        "else:\n",
        "    print(\"You are a minor.\")"
      ],
      "metadata": {
        "colab": {
          "base_uri": "https://localhost:8080/"
        },
        "id": "sRsNMfWP8nND",
        "outputId": "3be1d6e4-7e36-4053-e74c-7119a2e12181"
      },
      "execution_count": null,
      "outputs": [
        {
          "output_type": "stream",
          "name": "stdout",
          "text": [
            "You are an adult.\n"
          ]
        }
      ]
    },
    {
      "cell_type": "markdown",
      "source": [
        "Boolean Expressions:\n",
        "\n",
        "Conditional statements use Boolean expressions to evaluate conditions.\n",
        "Boolean expressions return True or False.\n",
        "Common operators for Boolean expressions:\n",
        "== (equal to)\n",
        "!= (not equal to)\n",
        "< (less than)\n",
        "> (greater than)\n",
        "<= (less than or equal to)\n",
        ">= (greater than or equal to)\n",
        "and (logical AND)\n",
        "or (logical OR)\n",
        "not (logical NOT)\n",
        "Example:"
      ],
      "metadata": {
        "id": "xoqo4ZTz82Au"
      }
    },
    {
      "cell_type": "code",
      "source": [
        "temperature = 30\n",
        "if temperature > 35:\n",
        "    print(\"It's very hot!\")\n",
        "elif temperature > 25:\n",
        "    print(\"It's hot.\")\n",
        "else:\n",
        "    print(\"It's comfortable.\")"
      ],
      "metadata": {
        "colab": {
          "base_uri": "https://localhost:8080/"
        },
        "id": "-dGbBf1W83hs",
        "outputId": "ff2d9702-7734-4668-d860-e46714bd76d7"
      },
      "execution_count": null,
      "outputs": [
        {
          "output_type": "stream",
          "name": "stdout",
          "text": [
            "It's hot.\n"
          ]
        }
      ]
    },
    {
      "cell_type": "markdown",
      "source": [
        "#7-- Describe the different types of loops in Python and their use cases with examples.\n",
        "#Ans-- Types of Loops in Python\n",
        "Python offers three main types of loops to control the flow of execution: for loops, while loops, and do-while loops (implemented using a combination of while and if statements).\n",
        "\n",
        "1. for Loops\n",
        "Use Cases: Iterating over sequences (like lists, tuples, strings, dictionaries, or sets) or ranges of numbers.\n",
        "Syntax:"
      ],
      "metadata": {
        "id": "ZbdtuGuQ9IyZ"
      }
    },
    {
      "cell_type": "code",
      "source": [
        "fruits = [\"apple\", \"banana\", \"cherry\"]\n",
        "for fruit in fruits:\n",
        "    print(fruit)"
      ],
      "metadata": {
        "colab": {
          "base_uri": "https://localhost:8080/"
        },
        "id": "LE_TYAN29jeE",
        "outputId": "24d3181f-2bd4-485f-9301-c09a4a201d62"
      },
      "execution_count": null,
      "outputs": [
        {
          "output_type": "stream",
          "name": "stdout",
          "text": [
            "apple\n",
            "banana\n",
            "cherry\n"
          ]
        }
      ]
    },
    {
      "cell_type": "markdown",
      "source": [
        "2. while Loops\n",
        "Use Cases: Repeating a block of code as long as a condition remains true.\n",
        "Syntax:"
      ],
      "metadata": {
        "id": "m8dgXuBC92Lx"
      }
    },
    {
      "cell_type": "code",
      "source": [
        "count = 0\n",
        "while count < 5:\n",
        "    print(\"Count:\", count)\n",
        "    count += 1"
      ],
      "metadata": {
        "colab": {
          "base_uri": "https://localhost:8080/"
        },
        "id": "UKaiIbGc-EUD",
        "outputId": "87449607-7676-443f-b099-7851e64e1bd8"
      },
      "execution_count": null,
      "outputs": [
        {
          "output_type": "stream",
          "name": "stdout",
          "text": [
            "Count: 0\n",
            "Count: 1\n",
            "Count: 2\n",
            "Count: 3\n",
            "Count: 4\n"
          ]
        }
      ]
    },
    {
      "cell_type": "markdown",
      "source": [
        "3. do-while Loops (Implemented Using while and if)\n",
        "Use Cases: Guaranteeing that a block of code is executed at least once, even if the condition is initially false.\n",
        "Syntax:"
      ],
      "metadata": {
        "id": "n5W9ngOr-Nvh"
      }
    },
    {
      "cell_type": "code",
      "source": [
        "while True:\n",
        "    print(\"Enter a number (0 to quit):\")\n",
        "    num = int(input())\n",
        "    if num == 0:\n",
        "        break\n",
        "    print(\"You entered:\", num)"
      ],
      "metadata": {
        "colab": {
          "base_uri": "https://localhost:8080/"
        },
        "id": "4fsea-9o-SjZ",
        "outputId": "04c37c58-7458-4820-b4da-057f88345b44"
      },
      "execution_count": null,
      "outputs": [
        {
          "name": "stdout",
          "output_type": "stream",
          "text": [
            "Enter a number (0 to quit):\n",
            "0\n"
          ]
        }
      ]
    },
    {
      "cell_type": "markdown",
      "source": [
        "Key Points:\n",
        "\n",
        "for loops are often preferred for iterating over sequences, as they are more concise and readable.\n",
        "while loops are useful when you need to repeat a block of code until a certain condition is met, regardless of the number of iterations.\n",
        "do-while loops are less common in Python but can be useful in situations where you need to execute a block of code at least once before checking the condition.\n",
        "By understanding these loop types and their use cases, you can effectively control the flow of your Python programs and perform repetitive tasks efficienty."
      ],
      "metadata": {
        "id": "MB64piB4-tvM"
      }
    }
  ]
}